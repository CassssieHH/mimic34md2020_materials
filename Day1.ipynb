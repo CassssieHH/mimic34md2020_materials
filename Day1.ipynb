{
 "cells": [
  {
   "cell_type": "markdown",
   "metadata": {},
   "source": [
    "# Welcome to MIMIC34MD\n"
   ]
  },
  {
   "cell_type": "markdown",
   "metadata": {},
   "source": [
    "## [What is Data Science?](notebooks/what_is_data_science.ipynb)\n",
    "\n",
    "## Introduction to Critical Care Medicine, Data, and Informatics\n",
    "\n",
    "## [Introduction to the MIMIC III Data Set](../slides/Introduction_to_MIMIC_III.pdf)\n",
    "\n",
    "## Working with the Database\n",
    "\n",
    "- [Data, Metadata](./notebooks/intro_to_data.ipynb)\n",
    "- [Relational databases and 1st Normal Form](./notebooks/first_normal_form.ipynb)\n",
    "- [A food example](./notebooks/learning_sql_with_tv.ipynb)\n",
    "- [Exploring MIMIC III Demo Database](./notebooks/sqlite_what_does_mimic_look_like.ipynb)\n",
    "\n",
    "## Summarizing Your Data\n",
    "\n",
    "- [Exploratory data analysis using Pandas](./notebooks/Exploratory-data-analysis-with-pandas.ipynb)\n",
    "- [MIMIC2 Interactive Time Lines with Altair](./notebooks/visualize_case_timeline.ipynb)\n",
    "- [MIMIC2 Subject Exploration](./notebooks/explore_mimic_data.ipynb)\n",
    "- [MIMIC2 Multi-subject Comparison](./notebooks/multisubject_exploration.ipynb)\n",
    "\n",
    "## Example Patient\n",
    "- [Example based on MIMIC III Paper](./notebooks/sqlite_example-patient.ipynb)"
   ]
  },
  {
   "cell_type": "code",
   "execution_count": null,
   "metadata": {},
   "outputs": [],
   "source": []
  }
 ],
 "metadata": {
  "kernelspec": {
   "display_name": "Python 3",
   "language": "python",
   "name": "python3"
  },
  "language_info": {
   "codemirror_mode": {
    "name": "ipython",
    "version": 3
   },
   "file_extension": ".py",
   "mimetype": "text/x-python",
   "name": "python",
   "nbconvert_exporter": "python",
   "pygments_lexer": "ipython3",
   "version": "3.7.6"
  }
 },
 "nbformat": 4,
 "nbformat_minor": 4
}
