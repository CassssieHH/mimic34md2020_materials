{
 "cells": [
  {
   "cell_type": "markdown",
   "metadata": {},
   "source": [
    "# Welcome to MIMIC34MD\n"
   ]
  },
  {
   "cell_type": "markdown",
   "metadata": {},
   "source": [
    "## What is Data Science?\n",
    "\n",
    "## Introduction to Critical Care Medicine, Data, and Informatics\n",
    "\n",
    "## Creating Clinical Data Warehouses\n",
    "\n",
    "## Introduction to the MIMIC III Data Set\n",
    "\n",
    "## What is a phenotype and how do we define one?\n",
    "\n",
    "## Working with the Database\n",
    "\n",
    "- [Data, Metadata, and Databases](./notebooks/intro_to_data.ipynb)\n",
    "- [Relational databases and 1st Normal Form](./notebooks/intro_to_data.ipynb)\n",
    "- [A food example](./notebooks/learning_sql_with_tv.ipynb)\n",
    "\n"
   ]
  },
  {
   "cell_type": "code",
   "execution_count": null,
   "metadata": {},
   "outputs": [],
   "source": []
  }
 ],
 "metadata": {
  "kernelspec": {
   "display_name": "Python 3",
   "language": "python",
   "name": "python3"
  },
  "language_info": {
   "codemirror_mode": {
    "name": "ipython",
    "version": 3
   },
   "file_extension": ".py",
   "mimetype": "text/x-python",
   "name": "python",
   "nbconvert_exporter": "python",
   "pygments_lexer": "ipython3",
   "version": "3.7.6"
  }
 },
 "nbformat": 4,
 "nbformat_minor": 4
}
