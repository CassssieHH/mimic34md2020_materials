{
 "cells": [
  {
   "cell_type": "markdown",
   "metadata": {},
   "source": [
    "### Creating and Displaying Questions\n",
    "\n",
    "The functionality for this is all (mostly provided in `dminteract.creator.utils`. As currently implemented, the questions are not secure in that a savvy Python programmer could find them. So this is just to enrich the student experience at this point. I may be able to get the scoring reimplemented so that they could keep track of their performance."
   ]
  },
  {
   "cell_type": "code",
   "execution_count": 29,
   "metadata": {},
   "outputs": [
    {
     "data": {
      "image/jpeg": "[encoded data removed]",
      "text/html": [
       "\n",
       "        <iframe\n",
       "            width=\"400\"\n",
       "            height=\"300\"\n",
       "            src=\"https://www.youtube.com/embed/1SLxSCt2ofU\"\n",
       "            frameborder=\"0\"\n",
       "            allowfullscreen\n",
       "        ></iframe>\n",
       "        "
      ],
      "text/plain": [
       "<IPython.lib.display.YouTubeVideo at 0x7fa5e035bbd0>"
      ]
     },
     "execution_count": 29,
     "metadata": {},
     "output_type": "execute_result"
    }
   ],
   "source": [
    "from IPython.display import YouTubeVideo\n",
    "YouTubeVideo(\"tzViAwzxm1M\")\n"
   ]
  },
  {
   "cell_type": "code",
   "execution_count": 1,
   "metadata": {},
   "outputs": [],
   "source": [
    "from dminteract.creator.utils import *"
   ]
  },
  {
   "cell_type": "markdown",
   "metadata": {},
   "source": [
    "The structure of a question consists of othe following five pieces:\n",
    "\n",
    "- __kind__: Current I have \"TF\" (true/false), \"MC\" (multiple choice), \"AT\" (select all true statements), \"FR\" (typed text answer.\n",
    "- __question__: The text of a question which can be typeset as Markdown for formatting, hyperlinks, etc.\n",
    "- __tags__: A string of phrases that are used to select questions for different question banks.\n",
    "- __responses__: This are the different responses presented to the student (e.g. \"T\", \"F\", \"Who was the first president of the United States.\")\n",
    "    - The displayed response is the key to the dictionary\n",
    "    - `status`: The true/false nature of the response (if relevant)\n",
    "    - `feedback`: Any feedback you want to provide the student for that response. Can be formatted as Markdown. Can be an empty string.\n",
    "    \n",
    "Questions are represented using a `Question` class which  is constructed from keyword arguments. The way I'm doing this is below is with dictionary unpacking. "
   ]
  },
  {
   "cell_type": "markdown",
   "metadata": {},
   "source": [
    "### Demonstrating Question Display to Students"
   ]
  },
  {
   "cell_type": "code",
   "execution_count": 2,
   "metadata": {},
   "outputs": [],
   "source": [
    "tfq = {\"kind\":\"TF\", \n",
    "      \"question\":\"I am a good person.\", \n",
    "      \"tags\":\"hello\", \n",
    "      \"responses\":{\"T\":{\"status\":True, \"feedback\":\"good answer\"},\n",
    "                   \"F\":{\"status\":False, \"feedback\":\"bad answer\"}},\n",
    "      \"uuid\":\"534\"}"
   ]
  },
  {
   "cell_type": "code",
   "execution_count": 3,
   "metadata": {},
   "outputs": [],
   "source": [
    "q2 = Question(**tfq)"
   ]
  },
  {
   "cell_type": "code",
   "execution_count": 4,
   "metadata": {},
   "outputs": [
    {
     "data": {
      "application/vnd.jupyter.widget-view+json": {
       "model_id": "056967b2b78b4f14be038df6d7b20ead",
       "version_major": 2,
       "version_minor": 0
      },
      "text/plain": [
       "TFWidget(children=(Label(value='Question'), HTML(value='<p>I am a good person.</p>'), RadioButtons(options=('T…"
      ]
     },
     "metadata": {},
     "output_type": "display_data"
    }
   ],
   "source": [
    "TFWidget(q2)"
   ]
  },
  {
   "cell_type": "code",
   "execution_count": 5,
   "metadata": {},
   "outputs": [],
   "source": [
    "mcq = {'kind': 'MC',\n",
    "  'question': 'Who was the first president of the United States',\n",
    "  'tags': 'a,1',\n",
    "  'responses': {'George Washington':{\"status\":True, 'feedback': 'Indeed!'},\n",
    "                'Abraham Lincoln':{\"status\":False, 'feedback': 'Civil War'},\n",
    "                'John Adams':{\"status\":False, 'feedback': 'No. 2'},\n",
    "                'Benjamin Franklin':{\"status\":False,'feedback': 'Never was'}},\n",
    "  'uid':\"444\"}\n"
   ]
  },
  {
   "cell_type": "code",
   "execution_count": 6,
   "metadata": {},
   "outputs": [],
   "source": [
    "q3 = Question(**mcq)\n"
   ]
  },
  {
   "cell_type": "code",
   "execution_count": 7,
   "metadata": {},
   "outputs": [
    {
     "data": {
      "application/vnd.jupyter.widget-view+json": {
       "model_id": "d38c4ef67a9546caa3dad2dc4b02425f",
       "version_major": 2,
       "version_minor": 0
      },
      "text/plain": [
       "MCWidget(children=(Label(value='Select the Correct Answer'), HTML(value='<p>Who was the first president of the…"
      ]
     },
     "metadata": {},
     "output_type": "display_data"
    }
   ],
   "source": [
    "MCWidget(q3)"
   ]
  },
  {
   "cell_type": "code",
   "execution_count": 8,
   "metadata": {},
   "outputs": [],
   "source": [
    "qat = {'kind': 'AT',\n",
    "  'question': 'Which of these researches primarily did medical research?',\n",
    "  'tags': 'a, 1',\n",
    "  'responses': {'Homer Warner':{\"status\":True, \"feedback\": 'HELP, Iliad, Bayesian diagnosis'},\n",
    "                'Benjamin Franklin':{'feedback': 'Electricity',\n",
    "    'status': False},\n",
    "                'Larry Weed':{'feedback': 'SOAP', 'status': True},\n",
    "     'James Clerk Maxwell':{'feedback': 'Mathematical physics',\n",
    "    'status': False}},\n",
    "      \"uuid\":\"333\"}\n"
   ]
  },
  {
   "cell_type": "code",
   "execution_count": 9,
   "metadata": {},
   "outputs": [],
   "source": [
    "q4 = Question(**qat)"
   ]
  },
  {
   "cell_type": "code",
   "execution_count": 10,
   "metadata": {},
   "outputs": [
    {
     "data": {
      "application/vnd.jupyter.widget-view+json": {
       "model_id": "d673cc85b42a48e89cb3a10dd540d828",
       "version_major": 2,
       "version_minor": 0
      },
      "text/plain": [
       "ATWidget(children=(Label(value='Select all True Answers'), HTML(value='<p>Which of these researches primarily …"
      ]
     },
     "metadata": {},
     "output_type": "display_data"
    }
   ],
   "source": [
    "ATWidget(q4)"
   ]
  },
  {
   "cell_type": "code",
   "execution_count": 31,
   "metadata": {},
   "outputs": [
    {
     "data": {
      "image/jpeg": "[encoded data removed]",
      "text/html": [
       "\n",
       "        <iframe\n",
       "            width=\"400\"\n",
       "            height=\"300\"\n",
       "            src=\"https://www.youtube.com/embed/1SLxSCt2ofU\"\n",
       "            frameborder=\"0\"\n",
       "            allowfullscreen\n",
       "        ></iframe>\n",
       "        "
      ],
      "text/plain": [
       "<IPython.lib.display.YouTubeVideo at 0x7fa5e0312bd0>"
      ]
     },
     "execution_count": 31,
     "metadata": {},
     "output_type": "execute_result"
    }
   ],
   "source": [
    "YouTubeVideo(\"1SLxSCt2ofU\")"
   ]
  },
  {
   "cell_type": "markdown",
   "metadata": {},
   "source": [
    "## Creating Questions\n",
    "\n",
    "Currently creating questions saves questions to a Python list that you must provide. We will latter export these to a fixed location."
   ]
  },
  {
   "cell_type": "code",
   "execution_count": 11,
   "metadata": {},
   "outputs": [],
   "source": [
    "questions = []"
   ]
  },
  {
   "cell_type": "code",
   "execution_count": 12,
   "metadata": {},
   "outputs": [
    {
     "data": {
      "application/vnd.jupyter.widget-view+json": {
       "model_id": "7f21db4fedc445cfa0d5a71d2d752c52",
       "version_major": 2,
       "version_minor": 0
      },
      "text/plain": [
       "TFQuestion(children=(HBox(children=(VBox(children=(Label(value='Enter question using Markdown formatting'), Te…"
      ]
     },
     "metadata": {},
     "output_type": "display_data"
    }
   ],
   "source": [
    "TFQuestion(questions)"
   ]
  },
  {
   "cell_type": "code",
   "execution_count": 13,
   "metadata": {},
   "outputs": [
    {
     "data": {
      "text/plain": [
       "[]"
      ]
     },
     "execution_count": 13,
     "metadata": {},
     "output_type": "execute_result"
    }
   ],
   "source": [
    "questions"
   ]
  },
  {
   "cell_type": "code",
   "execution_count": 14,
   "metadata": {},
   "outputs": [
    {
     "data": {
      "application/vnd.jupyter.widget-view+json": {
       "model_id": "acc1508fb45b467b921748f25a81d868",
       "version_major": 2,
       "version_minor": 0
      },
      "text/plain": [
       "MCQuestion(children=(VBox(children=(Label(value='Enter question using Markdown formatting'), Textarea(value=''…"
      ]
     },
     "metadata": {},
     "output_type": "display_data"
    }
   ],
   "source": [
    "MCQuestion(questions)"
   ]
  },
  {
   "cell_type": "code",
   "execution_count": 15,
   "metadata": {},
   "outputs": [
    {
     "data": {
      "application/vnd.jupyter.widget-view+json": {
       "model_id": "2db43cc82a1849539a8f7633375c385b",
       "version_major": 2,
       "version_minor": 0
      },
      "text/plain": [
       "ATQuestion(children=(VBox(children=(Label(value='Enter question using Markdown formatting'), Textarea(value=''…"
      ]
     },
     "metadata": {},
     "output_type": "display_data"
    }
   ],
   "source": [
    "ATQuestion(questions)"
   ]
  },
  {
   "cell_type": "code",
   "execution_count": null,
   "metadata": {},
   "outputs": [],
   "source": []
  },
  {
   "cell_type": "code",
   "execution_count": 16,
   "metadata": {},
   "outputs": [
    {
     "data": {
      "application/vnd.jupyter.widget-view+json": {
       "model_id": "33330f3de4e947709b0cf9fa539e120b",
       "version_major": 2,
       "version_minor": 0
      },
      "text/plain": [
       "FRQuestion(children=(VBox(children=(Label(value='Enter question using Markdown formatting'), Textarea(value=''…"
      ]
     },
     "metadata": {},
     "output_type": "display_data"
    }
   ],
   "source": [
    "FRQuestion(questions)"
   ]
  },
  {
   "cell_type": "code",
   "execution_count": 17,
   "metadata": {},
   "outputs": [],
   "source": [
    "import dminteract.creator.utils as dmc"
   ]
  },
  {
   "cell_type": "code",
   "execution_count": 18,
   "metadata": {},
   "outputs": [
    {
     "data": {
      "text/plain": [
       "'/tmp'"
      ]
     },
     "execution_count": 18,
     "metadata": {},
     "output_type": "execute_result"
    }
   ],
   "source": [
    "dmc.TEMPDIR"
   ]
  },
  {
   "cell_type": "code",
   "execution_count": 19,
   "metadata": {},
   "outputs": [
    {
     "name": "stdout",
     "output_type": "stream",
     "text": [
      "-rw-r--r-- 1 jovyan users 1345 Jun 24 08:36 /tmp/questions.pickle\n"
     ]
    }
   ],
   "source": [
    "!ls -ltra /tmp/*.pickle\n"
   ]
  },
  {
   "cell_type": "code",
   "execution_count": 20,
   "metadata": {},
   "outputs": [],
   "source": [
    "# save_questions(questions, \"demo.yaml\")"
   ]
  },
  {
   "cell_type": "code",
   "execution_count": 25,
   "metadata": {},
   "outputs": [],
   "source": [
    "question2 = load_questions(\"demo.yaml\")"
   ]
  },
  {
   "cell_type": "code",
   "execution_count": 26,
   "metadata": {},
   "outputs": [
    {
     "data": {
      "text/plain": [
       "[<dminteract.creator.utils.Question at 0x7fa5e035be10>,\n",
       " <dminteract.creator.utils.Question at 0x7fa5e0b1cc50>,\n",
       " <dminteract.creator.utils.Question at 0x7fa5e0b1c090>]"
      ]
     },
     "execution_count": 26,
     "metadata": {},
     "output_type": "execute_result"
    }
   ],
   "source": [
    "question2"
   ]
  },
  {
   "cell_type": "code",
   "execution_count": 27,
   "metadata": {},
   "outputs": [
    {
     "data": {
      "text/plain": [
       "['languages', 'data, information', 'dbs, mimiciii']"
      ]
     },
     "execution_count": 27,
     "metadata": {},
     "output_type": "execute_result"
    }
   ],
   "source": [
    "[q.tags for q in question2]"
   ]
  },
  {
   "cell_type": "code",
   "execution_count": null,
   "metadata": {},
   "outputs": [],
   "source": []
  }
 ],
 "metadata": {
  "kernelspec": {
   "display_name": "Python 3",
   "language": "python",
   "name": "python3"
  },
  "language_info": {
   "codemirror_mode": {
    "name": "ipython",
    "version": 3
   },
   "file_extension": ".py",
   "mimetype": "text/x-python",
   "name": "python",
   "nbconvert_exporter": "python",
   "pygments_lexer": "ipython3",
   "version": "3.7.6"
  }
 },
 "nbformat": 4,
 "nbformat_minor": 4
}
