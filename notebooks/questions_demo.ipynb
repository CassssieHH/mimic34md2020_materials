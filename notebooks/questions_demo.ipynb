{
 "cells": [
  {
   "cell_type": "markdown",
   "metadata": {},
   "source": [
    "### Creating and Displaying Questions\n",
    "\n",
    "The functionality for this is all (mostly provided in `dminteract.creator.utils`. As currently implemented, the questions are not secure in that a savvy Python programmer could find them. So this is just to enrich the student experience at this point. I may be able to get the scoring reimplemented so that they could keep track of their performance."
   ]
  },
  {
   "cell_type": "code",
   "execution_count": null,
   "metadata": {},
   "outputs": [],
   "source": [
    "from IPython.display import YouTubeVideo\n",
    "YouTubeVideo(\"tzViAwzxm1M\")\n"
   ]
  },
  {
   "cell_type": "code",
   "execution_count": null,
   "metadata": {},
   "outputs": [],
   "source": [
    "from dminteract.creator.utils import *"
   ]
  },
  {
   "cell_type": "markdown",
   "metadata": {},
   "source": [
    "The structure of a question consists of othe following five pieces:\n",
    "\n",
    "- __kind__: Current I have \"TF\" (true/false), \"MC\" (multiple choice), \"AT\" (select all true statements), \"FR\" (typed text answer.\n",
    "- __question__: The text of a question which can be typeset as Markdown for formatting, hyperlinks, etc.\n",
    "- __tags__: A string of phrases that are used to select questions for different question banks.\n",
    "- __responses__: This are the different responses presented to the student (e.g. \"T\", \"F\", \"Who was the first president of the United States.\")\n",
    "    - The displayed response is the key to the dictionary\n",
    "    - `status`: The true/false nature of the response (if relevant)\n",
    "    - `feedback`: Any feedback you want to provide the student for that response. Can be formatted as Markdown. Can be an empty string.\n",
    "    \n",
    "Questions are represented using a `Question` class which  is constructed from keyword arguments. The way I'm doing this is below is with dictionary unpacking. "
   ]
  },
  {
   "cell_type": "markdown",
   "metadata": {},
   "source": [
    "### Demonstrating Question Display to Students"
   ]
  },
  {
   "cell_type": "code",
   "execution_count": null,
   "metadata": {},
   "outputs": [],
   "source": [
    "tfq = {\"kind\":\"TF\", \n",
    "      \"question\":\"I am a good person.\", \n",
    "      \"tags\":\"hello\", \n",
    "      \"responses\":{\"T\":{\"status\":True, \"feedback\":\"good answer\"},\n",
    "                   \"F\":{\"status\":False, \"feedback\":\"bad answer\"}},\n",
    "      \"uuid\":\"534\"}"
   ]
  },
  {
   "cell_type": "code",
   "execution_count": null,
   "metadata": {},
   "outputs": [],
   "source": [
    "q2 = Question(**tfq)"
   ]
  },
  {
   "cell_type": "code",
   "execution_count": null,
   "metadata": {},
   "outputs": [],
   "source": [
    "TFWidget(q2)"
   ]
  },
  {
   "cell_type": "code",
   "execution_count": null,
   "metadata": {},
   "outputs": [],
   "source": [
    "mcq = {'kind': 'MC',\n",
    "  'question': 'Who was the first president of the United States',\n",
    "  'tags': 'a,1',\n",
    "  'responses': {'George Washington':{\"status\":True, 'feedback': 'Indeed!'},\n",
    "                'Abraham Lincoln':{\"status\":False, 'feedback': 'Civil War'},\n",
    "                'John Adams':{\"status\":False, 'feedback': 'No. 2'},\n",
    "                'Benjamin Franklin':{\"status\":False,'feedback': 'Never was'}},\n",
    "  'uid':\"444\"}\n"
   ]
  },
  {
   "cell_type": "code",
   "execution_count": null,
   "metadata": {},
   "outputs": [],
   "source": [
    "q3 = Question(**mcq)\n"
   ]
  },
  {
   "cell_type": "code",
   "execution_count": null,
   "metadata": {},
   "outputs": [],
   "source": [
    "MCWidget(q3)"
   ]
  },
  {
   "cell_type": "code",
   "execution_count": null,
   "metadata": {},
   "outputs": [],
   "source": [
    "qat = {'kind': 'AT',\n",
    "  'question': 'Which of these researches primarily did medical research?',\n",
    "  'tags': 'a, 1',\n",
    "  'responses': {'Homer Warner':{\"status\":True, \"feedback\": 'HELP, Iliad, Bayesian diagnosis'},\n",
    "                'Benjamin Franklin':{'feedback': 'Electricity',\n",
    "    'status': False},\n",
    "                'Larry Weed':{'feedback': 'SOAP', 'status': True},\n",
    "     'James Clerk Maxwell':{'feedback': 'Mathematical physics',\n",
    "    'status': False}},\n",
    "      \"uuid\":\"333\"}\n"
   ]
  },
  {
   "cell_type": "code",
   "execution_count": null,
   "metadata": {},
   "outputs": [],
   "source": [
    "q4 = Question(**qat)"
   ]
  },
  {
   "cell_type": "code",
   "execution_count": null,
   "metadata": {},
   "outputs": [],
   "source": [
    "ATWidget(q4)"
   ]
  },
  {
   "cell_type": "code",
   "execution_count": null,
   "metadata": {},
   "outputs": [],
   "source": [
    "YouTubeVideo(\"1SLxSCt2ofU\")"
   ]
  },
  {
   "cell_type": "markdown",
   "metadata": {},
   "source": [
    "## Creating Questions\n",
    "\n",
    "Currently creating questions saves questions to a Python list that you must provide. We will latter export these to a fixed location."
   ]
  },
  {
   "cell_type": "code",
   "execution_count": null,
   "metadata": {},
   "outputs": [],
   "source": [
    "questions = []"
   ]
  },
  {
   "cell_type": "code",
   "execution_count": null,
   "metadata": {},
   "outputs": [],
   "source": [
    "TFQuestion(questions)"
   ]
  },
  {
   "cell_type": "code",
   "execution_count": null,
   "metadata": {},
   "outputs": [],
   "source": [
    "questions"
   ]
  },
  {
   "cell_type": "code",
   "execution_count": null,
   "metadata": {},
   "outputs": [],
   "source": [
    "MCQuestion(questions)"
   ]
  },
  {
   "cell_type": "code",
   "execution_count": null,
   "metadata": {},
   "outputs": [],
   "source": [
    "ATQuestion(questions)"
   ]
  },
  {
   "cell_type": "code",
   "execution_count": null,
   "metadata": {},
   "outputs": [],
   "source": []
  },
  {
   "cell_type": "code",
   "execution_count": null,
   "metadata": {},
   "outputs": [],
   "source": [
    "FRQuestion(questions)"
   ]
  },
  {
   "cell_type": "code",
   "execution_count": null,
   "metadata": {},
   "outputs": [],
   "source": [
    "import dminteract.creator.utils as dmc"
   ]
  },
  {
   "cell_type": "code",
   "execution_count": null,
   "metadata": {},
   "outputs": [],
   "source": [
    "dmc.TEMPDIR"
   ]
  },
  {
   "cell_type": "code",
   "execution_count": null,
   "metadata": {},
   "outputs": [],
   "source": [
    "!ls -ltra /tmp/*.pickle\n"
   ]
  },
  {
   "cell_type": "code",
   "execution_count": null,
   "metadata": {},
   "outputs": [],
   "source": [
    "# save_questions(questions, \"demo.yaml\")"
   ]
  },
  {
   "cell_type": "code",
   "execution_count": null,
   "metadata": {},
   "outputs": [],
   "source": [
    "question2 = load_questions(\"demo.yaml\")"
   ]
  },
  {
   "cell_type": "code",
   "execution_count": null,
   "metadata": {},
   "outputs": [],
   "source": [
    "question2"
   ]
  },
  {
   "cell_type": "code",
   "execution_count": null,
   "metadata": {},
   "outputs": [],
   "source": [
    "[q.tags for q in question2]"
   ]
  },
  {
   "cell_type": "markdown",
   "metadata": {},
   "source": [
    "### Creating Question Banks\n",
    "\n",
    "#### Without filtering on tags"
   ]
  },
  {
   "cell_type": "code",
   "execution_count": null,
   "metadata": {},
   "outputs": [],
   "source": [
    "for w in create_question_bank(\"demo.yaml\"):\n",
    "    display(w)"
   ]
  },
  {
   "cell_type": "markdown",
   "metadata": {},
   "source": [
    "#### Filtering on tags"
   ]
  },
  {
   "cell_type": "code",
   "execution_count": null,
   "metadata": {},
   "outputs": [],
   "source": [
    "for w in create_question_bank(\"demo.yaml\", tag=\"language\"):\n",
    "    display(w)"
   ]
  },
  {
   "cell_type": "code",
   "execution_count": null,
   "metadata": {},
   "outputs": [],
   "source": []
  }
 ],
 "metadata": {
  "kernelspec": {
   "display_name": "Python 3",
   "language": "python",
   "name": "python3"
  },
  "language_info": {
   "codemirror_mode": {
    "name": "ipython",
    "version": 3
   },
   "file_extension": ".py",
   "mimetype": "text/x-python",
   "name": "python",
   "nbconvert_exporter": "python",
   "pygments_lexer": "ipython3",
   "version": "3.7.6"
  }
 },
 "nbformat": 4,
 "nbformat_minor": 4
}
